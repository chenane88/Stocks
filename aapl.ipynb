{
 "cells": [
  {
   "cell_type": "code",
   "execution_count": 1,
   "metadata": {},
   "outputs": [],
   "source": [
    "import pandas as pd\n",
    "import numpy as np\n",
    "import seaborn as sns\n",
    "import matplotlib.pyplot as plt\n",
    "%matplotlib inline"
   ]
  },
  {
   "cell_type": "code",
   "execution_count": 2,
   "metadata": {},
   "outputs": [
    {
     "data": {
      "text/plain": [
       "'C:\\\\Users\\\\BRADLEY\\\\Downloads\\\\Data Science'"
      ]
     },
     "execution_count": 2,
     "metadata": {},
     "output_type": "execute_result"
    }
   ],
   "source": [
    "pwd"
   ]
  },
  {
   "cell_type": "code",
   "execution_count": 3,
   "metadata": {},
   "outputs": [
    {
     "data": {
      "text/html": [
       "<div>\n",
       "<style scoped>\n",
       "    .dataframe tbody tr th:only-of-type {\n",
       "        vertical-align: middle;\n",
       "    }\n",
       "\n",
       "    .dataframe tbody tr th {\n",
       "        vertical-align: top;\n",
       "    }\n",
       "\n",
       "    .dataframe thead th {\n",
       "        text-align: right;\n",
       "    }\n",
       "</style>\n",
       "<table border=\"1\" class=\"dataframe\">\n",
       "  <thead>\n",
       "    <tr style=\"text-align: right;\">\n",
       "      <th></th>\n",
       "      <th>Unnamed: 0</th>\n",
       "      <th>adj_close</th>\n",
       "      <th>close</th>\n",
       "      <th>date</th>\n",
       "      <th>high</th>\n",
       "      <th>low</th>\n",
       "      <th>open</th>\n",
       "      <th>volume</th>\n",
       "    </tr>\n",
       "  </thead>\n",
       "  <tbody>\n",
       "    <tr>\n",
       "      <th>0</th>\n",
       "      <td>0</td>\n",
       "      <td>31.68</td>\n",
       "      <td>130.31</td>\n",
       "      <td>2000-03-01</td>\n",
       "      <td>132.06</td>\n",
       "      <td>118.50</td>\n",
       "      <td>118.56</td>\n",
       "      <td>38478000</td>\n",
       "    </tr>\n",
       "    <tr>\n",
       "      <th>1</th>\n",
       "      <td>1</td>\n",
       "      <td>29.66</td>\n",
       "      <td>122.00</td>\n",
       "      <td>2000-03-02</td>\n",
       "      <td>127.94</td>\n",
       "      <td>120.69</td>\n",
       "      <td>127.00</td>\n",
       "      <td>11136800</td>\n",
       "    </tr>\n",
       "    <tr>\n",
       "      <th>2</th>\n",
       "      <td>2</td>\n",
       "      <td>31.12</td>\n",
       "      <td>128.00</td>\n",
       "      <td>2000-03-03</td>\n",
       "      <td>128.23</td>\n",
       "      <td>120.00</td>\n",
       "      <td>124.87</td>\n",
       "      <td>11565200</td>\n",
       "    </tr>\n",
       "    <tr>\n",
       "      <th>3</th>\n",
       "      <td>3</td>\n",
       "      <td>30.56</td>\n",
       "      <td>125.69</td>\n",
       "      <td>2000-03-06</td>\n",
       "      <td>129.13</td>\n",
       "      <td>125.00</td>\n",
       "      <td>126.00</td>\n",
       "      <td>7520000</td>\n",
       "    </tr>\n",
       "    <tr>\n",
       "      <th>4</th>\n",
       "      <td>4</td>\n",
       "      <td>29.87</td>\n",
       "      <td>122.87</td>\n",
       "      <td>2000-03-07</td>\n",
       "      <td>127.44</td>\n",
       "      <td>121.12</td>\n",
       "      <td>126.44</td>\n",
       "      <td>9767600</td>\n",
       "    </tr>\n",
       "  </tbody>\n",
       "</table>\n",
       "</div>"
      ],
      "text/plain": [
       "   Unnamed: 0  adj_close   close        date    high     low    open    volume\n",
       "0           0      31.68  130.31  2000-03-01  132.06  118.50  118.56  38478000\n",
       "1           1      29.66  122.00  2000-03-02  127.94  120.69  127.00  11136800\n",
       "2           2      31.12  128.00  2000-03-03  128.23  120.00  124.87  11565200\n",
       "3           3      30.56  125.69  2000-03-06  129.13  125.00  126.00   7520000\n",
       "4           4      29.87  122.87  2000-03-07  127.44  121.12  126.44   9767600"
      ]
     },
     "execution_count": 3,
     "metadata": {},
     "output_type": "execute_result"
    }
   ],
   "source": [
    "new='aapl.csv'\n",
    "df=pd.read_csv(new)\n",
    "df.head()"
   ]
  },
  {
   "cell_type": "code",
   "execution_count": 4,
   "metadata": {},
   "outputs": [
    {
     "data": {
      "text/html": [
       "<div>\n",
       "<style scoped>\n",
       "    .dataframe tbody tr th:only-of-type {\n",
       "        vertical-align: middle;\n",
       "    }\n",
       "\n",
       "    .dataframe tbody tr th {\n",
       "        vertical-align: top;\n",
       "    }\n",
       "\n",
       "    .dataframe thead th {\n",
       "        text-align: right;\n",
       "    }\n",
       "</style>\n",
       "<table border=\"1\" class=\"dataframe\">\n",
       "  <thead>\n",
       "    <tr style=\"text-align: right;\">\n",
       "      <th></th>\n",
       "      <th>Unnamed: 0</th>\n",
       "      <th>adj_close</th>\n",
       "      <th>close</th>\n",
       "      <th>high</th>\n",
       "      <th>low</th>\n",
       "      <th>open</th>\n",
       "      <th>volume</th>\n",
       "    </tr>\n",
       "  </thead>\n",
       "  <tbody>\n",
       "    <tr>\n",
       "      <th>Unnamed: 0</th>\n",
       "      <td>1.000000</td>\n",
       "      <td>0.857623</td>\n",
       "      <td>0.832001</td>\n",
       "      <td>0.831732</td>\n",
       "      <td>0.832029</td>\n",
       "      <td>0.831833</td>\n",
       "      <td>0.205899</td>\n",
       "    </tr>\n",
       "    <tr>\n",
       "      <th>adj_close</th>\n",
       "      <td>0.857623</td>\n",
       "      <td>1.000000</td>\n",
       "      <td>0.996564</td>\n",
       "      <td>0.996325</td>\n",
       "      <td>0.996577</td>\n",
       "      <td>0.996358</td>\n",
       "      <td>0.036967</td>\n",
       "    </tr>\n",
       "    <tr>\n",
       "      <th>close</th>\n",
       "      <td>0.832001</td>\n",
       "      <td>0.996564</td>\n",
       "      <td>1.000000</td>\n",
       "      <td>0.999893</td>\n",
       "      <td>0.999882</td>\n",
       "      <td>0.999768</td>\n",
       "      <td>0.024636</td>\n",
       "    </tr>\n",
       "    <tr>\n",
       "      <th>high</th>\n",
       "      <td>0.831732</td>\n",
       "      <td>0.996325</td>\n",
       "      <td>0.999893</td>\n",
       "      <td>1.000000</td>\n",
       "      <td>0.999840</td>\n",
       "      <td>0.999912</td>\n",
       "      <td>0.028510</td>\n",
       "    </tr>\n",
       "    <tr>\n",
       "      <th>low</th>\n",
       "      <td>0.832029</td>\n",
       "      <td>0.996577</td>\n",
       "      <td>0.999882</td>\n",
       "      <td>0.999840</td>\n",
       "      <td>1.000000</td>\n",
       "      <td>0.999865</td>\n",
       "      <td>0.020534</td>\n",
       "    </tr>\n",
       "    <tr>\n",
       "      <th>open</th>\n",
       "      <td>0.831833</td>\n",
       "      <td>0.996358</td>\n",
       "      <td>0.999768</td>\n",
       "      <td>0.999912</td>\n",
       "      <td>0.999865</td>\n",
       "      <td>1.000000</td>\n",
       "      <td>0.025638</td>\n",
       "    </tr>\n",
       "    <tr>\n",
       "      <th>volume</th>\n",
       "      <td>0.205899</td>\n",
       "      <td>0.036967</td>\n",
       "      <td>0.024636</td>\n",
       "      <td>0.028510</td>\n",
       "      <td>0.020534</td>\n",
       "      <td>0.025638</td>\n",
       "      <td>1.000000</td>\n",
       "    </tr>\n",
       "  </tbody>\n",
       "</table>\n",
       "</div>"
      ],
      "text/plain": [
       "            Unnamed: 0  adj_close     close      high       low      open  \\\n",
       "Unnamed: 0    1.000000   0.857623  0.832001  0.831732  0.832029  0.831833   \n",
       "adj_close     0.857623   1.000000  0.996564  0.996325  0.996577  0.996358   \n",
       "close         0.832001   0.996564  1.000000  0.999893  0.999882  0.999768   \n",
       "high          0.831732   0.996325  0.999893  1.000000  0.999840  0.999912   \n",
       "low           0.832029   0.996577  0.999882  0.999840  1.000000  0.999865   \n",
       "open          0.831833   0.996358  0.999768  0.999912  0.999865  1.000000   \n",
       "volume        0.205899   0.036967  0.024636  0.028510  0.020534  0.025638   \n",
       "\n",
       "              volume  \n",
       "Unnamed: 0  0.205899  \n",
       "adj_close   0.036967  \n",
       "close       0.024636  \n",
       "high        0.028510  \n",
       "low         0.020534  \n",
       "open        0.025638  \n",
       "volume      1.000000  "
      ]
     },
     "execution_count": 4,
     "metadata": {},
     "output_type": "execute_result"
    }
   ],
   "source": [
    "df.corr()"
   ]
  },
  {
   "cell_type": "code",
   "execution_count": 5,
   "metadata": {},
   "outputs": [
    {
     "data": {
      "text/plain": [
       "Index(['Unnamed: 0', 'adj_close', 'close', 'date', 'high', 'low', 'open',\n",
       "       'volume'],\n",
       "      dtype='object')"
      ]
     },
     "execution_count": 5,
     "metadata": {},
     "output_type": "execute_result"
    }
   ],
   "source": [
    "df.columns"
   ]
  },
  {
   "cell_type": "code",
   "execution_count": 6,
   "metadata": {},
   "outputs": [],
   "source": [
    "df.drop(axis=1,columns=['Unnamed: 0'],inplace=True)"
   ]
  },
  {
   "cell_type": "markdown",
   "metadata": {},
   "source": [
    "<b>removing the unnamed column</b>"
   ]
  },
  {
   "cell_type": "code",
   "execution_count": 7,
   "metadata": {},
   "outputs": [
    {
     "data": {
      "text/html": [
       "<div>\n",
       "<style scoped>\n",
       "    .dataframe tbody tr th:only-of-type {\n",
       "        vertical-align: middle;\n",
       "    }\n",
       "\n",
       "    .dataframe tbody tr th {\n",
       "        vertical-align: top;\n",
       "    }\n",
       "\n",
       "    .dataframe thead th {\n",
       "        text-align: right;\n",
       "    }\n",
       "</style>\n",
       "<table border=\"1\" class=\"dataframe\">\n",
       "  <thead>\n",
       "    <tr style=\"text-align: right;\">\n",
       "      <th></th>\n",
       "      <th>adj_close</th>\n",
       "      <th>close</th>\n",
       "      <th>date</th>\n",
       "      <th>high</th>\n",
       "      <th>low</th>\n",
       "      <th>open</th>\n",
       "      <th>volume</th>\n",
       "    </tr>\n",
       "  </thead>\n",
       "  <tbody>\n",
       "    <tr>\n",
       "      <th>0</th>\n",
       "      <td>31.68</td>\n",
       "      <td>130.31</td>\n",
       "      <td>2000-03-01</td>\n",
       "      <td>132.06</td>\n",
       "      <td>118.50</td>\n",
       "      <td>118.56</td>\n",
       "      <td>38478000</td>\n",
       "    </tr>\n",
       "    <tr>\n",
       "      <th>1</th>\n",
       "      <td>29.66</td>\n",
       "      <td>122.00</td>\n",
       "      <td>2000-03-02</td>\n",
       "      <td>127.94</td>\n",
       "      <td>120.69</td>\n",
       "      <td>127.00</td>\n",
       "      <td>11136800</td>\n",
       "    </tr>\n",
       "    <tr>\n",
       "      <th>2</th>\n",
       "      <td>31.12</td>\n",
       "      <td>128.00</td>\n",
       "      <td>2000-03-03</td>\n",
       "      <td>128.23</td>\n",
       "      <td>120.00</td>\n",
       "      <td>124.87</td>\n",
       "      <td>11565200</td>\n",
       "    </tr>\n",
       "    <tr>\n",
       "      <th>3</th>\n",
       "      <td>30.56</td>\n",
       "      <td>125.69</td>\n",
       "      <td>2000-03-06</td>\n",
       "      <td>129.13</td>\n",
       "      <td>125.00</td>\n",
       "      <td>126.00</td>\n",
       "      <td>7520000</td>\n",
       "    </tr>\n",
       "    <tr>\n",
       "      <th>4</th>\n",
       "      <td>29.87</td>\n",
       "      <td>122.87</td>\n",
       "      <td>2000-03-07</td>\n",
       "      <td>127.44</td>\n",
       "      <td>121.12</td>\n",
       "      <td>126.44</td>\n",
       "      <td>9767600</td>\n",
       "    </tr>\n",
       "  </tbody>\n",
       "</table>\n",
       "</div>"
      ],
      "text/plain": [
       "   adj_close   close        date    high     low    open    volume\n",
       "0      31.68  130.31  2000-03-01  132.06  118.50  118.56  38478000\n",
       "1      29.66  122.00  2000-03-02  127.94  120.69  127.00  11136800\n",
       "2      31.12  128.00  2000-03-03  128.23  120.00  124.87  11565200\n",
       "3      30.56  125.69  2000-03-06  129.13  125.00  126.00   7520000\n",
       "4      29.87  122.87  2000-03-07  127.44  121.12  126.44   9767600"
      ]
     },
     "execution_count": 7,
     "metadata": {},
     "output_type": "execute_result"
    }
   ],
   "source": [
    "df.head(5)"
   ]
  },
  {
   "cell_type": "code",
   "execution_count": 8,
   "metadata": {},
   "outputs": [
    {
     "data": {
      "text/plain": [
       "adj_close    0\n",
       "close        0\n",
       "date         0\n",
       "high         0\n",
       "low          0\n",
       "open         0\n",
       "volume       0\n",
       "dtype: int64"
      ]
     },
     "execution_count": 8,
     "metadata": {},
     "output_type": "execute_result"
    }
   ],
   "source": [
    "df.isna().sum()"
   ]
  },
  {
   "cell_type": "markdown",
   "metadata": {},
   "source": [
    "<b>No null values present</b>"
   ]
  },
  {
   "cell_type": "code",
   "execution_count": 9,
   "metadata": {},
   "outputs": [
    {
     "data": {
      "text/plain": [
       "adj_close    float64\n",
       "close        float64\n",
       "date          object\n",
       "high         float64\n",
       "low          float64\n",
       "open         float64\n",
       "volume         int64\n",
       "dtype: object"
      ]
     },
     "execution_count": 9,
     "metadata": {},
     "output_type": "execute_result"
    }
   ],
   "source": [
    "df.dtypes"
   ]
  },
  {
   "cell_type": "markdown",
   "metadata": {},
   "source": [
    "<b>The datatypes are also okay</b>"
   ]
  },
  {
   "cell_type": "code",
   "execution_count": 10,
   "metadata": {},
   "outputs": [
    {
     "data": {
      "text/html": [
       "<div>\n",
       "<style scoped>\n",
       "    .dataframe tbody tr th:only-of-type {\n",
       "        vertical-align: middle;\n",
       "    }\n",
       "\n",
       "    .dataframe tbody tr th {\n",
       "        vertical-align: top;\n",
       "    }\n",
       "\n",
       "    .dataframe thead th {\n",
       "        text-align: right;\n",
       "    }\n",
       "</style>\n",
       "<table border=\"1\" class=\"dataframe\">\n",
       "  <thead>\n",
       "    <tr style=\"text-align: right;\">\n",
       "      <th></th>\n",
       "      <th>adj_close</th>\n",
       "      <th>close</th>\n",
       "      <th>high</th>\n",
       "      <th>low</th>\n",
       "      <th>open</th>\n",
       "      <th>volume</th>\n",
       "    </tr>\n",
       "  </thead>\n",
       "  <tbody>\n",
       "    <tr>\n",
       "      <th>count</th>\n",
       "      <td>3270.000000</td>\n",
       "      <td>3270.000000</td>\n",
       "      <td>3270.000000</td>\n",
       "      <td>3270.000000</td>\n",
       "      <td>3270.000000</td>\n",
       "      <td>3.270000e+03</td>\n",
       "    </tr>\n",
       "    <tr>\n",
       "      <th>mean</th>\n",
       "      <td>140.505248</td>\n",
       "      <td>151.108138</td>\n",
       "      <td>153.017789</td>\n",
       "      <td>149.103336</td>\n",
       "      <td>151.216673</td>\n",
       "      <td>2.151112e+07</td>\n",
       "    </tr>\n",
       "    <tr>\n",
       "      <th>std</th>\n",
       "      <td>165.408965</td>\n",
       "      <td>165.277867</td>\n",
       "      <td>166.815882</td>\n",
       "      <td>163.681717</td>\n",
       "      <td>165.485538</td>\n",
       "      <td>1.482164e+07</td>\n",
       "    </tr>\n",
       "    <tr>\n",
       "      <th>min</th>\n",
       "      <td>6.380000</td>\n",
       "      <td>13.120000</td>\n",
       "      <td>13.190000</td>\n",
       "      <td>12.720000</td>\n",
       "      <td>12.990000</td>\n",
       "      <td>1.405000e+06</td>\n",
       "    </tr>\n",
       "    <tr>\n",
       "      <th>25%</th>\n",
       "      <td>12.020000</td>\n",
       "      <td>24.712500</td>\n",
       "      <td>25.060000</td>\n",
       "      <td>24.092500</td>\n",
       "      <td>24.592500</td>\n",
       "      <td>1.159570e+07</td>\n",
       "    </tr>\n",
       "    <tr>\n",
       "      <th>50%</th>\n",
       "      <td>72.410000</td>\n",
       "      <td>85.340000</td>\n",
       "      <td>86.500000</td>\n",
       "      <td>84.355000</td>\n",
       "      <td>85.415000</td>\n",
       "      <td>1.730015e+07</td>\n",
       "    </tr>\n",
       "    <tr>\n",
       "      <th>75%</th>\n",
       "      <td>192.572500</td>\n",
       "      <td>198.010000</td>\n",
       "      <td>200.762500</td>\n",
       "      <td>196.027500</td>\n",
       "      <td>198.957500</td>\n",
       "      <td>2.744490e+07</td>\n",
       "    </tr>\n",
       "    <tr>\n",
       "      <th>max</th>\n",
       "      <td>685.760000</td>\n",
       "      <td>702.100000</td>\n",
       "      <td>705.070000</td>\n",
       "      <td>699.570000</td>\n",
       "      <td>702.410000</td>\n",
       "      <td>2.650690e+08</td>\n",
       "    </tr>\n",
       "  </tbody>\n",
       "</table>\n",
       "</div>"
      ],
      "text/plain": [
       "         adj_close        close         high          low         open  \\\n",
       "count  3270.000000  3270.000000  3270.000000  3270.000000  3270.000000   \n",
       "mean    140.505248   151.108138   153.017789   149.103336   151.216673   \n",
       "std     165.408965   165.277867   166.815882   163.681717   165.485538   \n",
       "min       6.380000    13.120000    13.190000    12.720000    12.990000   \n",
       "25%      12.020000    24.712500    25.060000    24.092500    24.592500   \n",
       "50%      72.410000    85.340000    86.500000    84.355000    85.415000   \n",
       "75%     192.572500   198.010000   200.762500   196.027500   198.957500   \n",
       "max     685.760000   702.100000   705.070000   699.570000   702.410000   \n",
       "\n",
       "             volume  \n",
       "count  3.270000e+03  \n",
       "mean   2.151112e+07  \n",
       "std    1.482164e+07  \n",
       "min    1.405000e+06  \n",
       "25%    1.159570e+07  \n",
       "50%    1.730015e+07  \n",
       "75%    2.744490e+07  \n",
       "max    2.650690e+08  "
      ]
     },
     "execution_count": 10,
     "metadata": {},
     "output_type": "execute_result"
    }
   ],
   "source": [
    "df.describe()"
   ]
  },
  {
   "cell_type": "code",
   "execution_count": 11,
   "metadata": {},
   "outputs": [
    {
     "data": {
      "text/plain": [
       "RangeIndex(start=0, stop=3270, step=1)"
      ]
     },
     "execution_count": 11,
     "metadata": {},
     "output_type": "execute_result"
    }
   ],
   "source": [
    "df.index"
   ]
  },
  {
   "cell_type": "code",
   "execution_count": 12,
   "metadata": {},
   "outputs": [
    {
     "data": {
      "text/plain": [
       "count           3270\n",
       "unique          3270\n",
       "top       2008-06-25\n",
       "freq               1\n",
       "Name: date, dtype: object"
      ]
     },
     "execution_count": 12,
     "metadata": {},
     "output_type": "execute_result"
    }
   ],
   "source": [
    "df['date'].describe()"
   ]
  },
  {
   "cell_type": "markdown",
   "metadata": {},
   "source": [
    "<b>The format is wrong hence the values don't make sense hence we convert it to date time format</b>"
   ]
  },
  {
   "cell_type": "code",
   "execution_count": 13,
   "metadata": {},
   "outputs": [
    {
     "data": {
      "text/plain": [
       "0    2000-03-01\n",
       "1    2000-03-02\n",
       "2    2000-03-03\n",
       "3    2000-03-06\n",
       "4    2000-03-07\n",
       "Name: date, dtype: object"
      ]
     },
     "execution_count": 13,
     "metadata": {},
     "output_type": "execute_result"
    }
   ],
   "source": [
    "df['date'].head()"
   ]
  },
  {
   "cell_type": "markdown",
   "metadata": {},
   "source": [
    "<b>using the pd.to_datetime which takes the format mm/dd/yy</b>"
   ]
  },
  {
   "cell_type": "code",
   "execution_count": 14,
   "metadata": {},
   "outputs": [],
   "source": [
    "df['date']=pd.to_datetime(df['date'],yearfirst=True)"
   ]
  },
  {
   "cell_type": "markdown",
   "metadata": {},
   "source": [
    "<b>using yearfirst instead of date first since the dates have year first</b>"
   ]
  },
  {
   "cell_type": "code",
   "execution_count": 15,
   "metadata": {},
   "outputs": [
    {
     "data": {
      "text/plain": [
       "0      2000-03-01\n",
       "1      2000-03-02\n",
       "2      2000-03-03\n",
       "3      2000-03-06\n",
       "4      2000-03-07\n",
       "          ...    \n",
       "3265   2013-02-25\n",
       "3266   2013-02-26\n",
       "3267   2013-02-27\n",
       "3268   2013-02-28\n",
       "3269   2013-03-01\n",
       "Name: date, Length: 3270, dtype: datetime64[ns]"
      ]
     },
     "execution_count": 15,
     "metadata": {},
     "output_type": "execute_result"
    }
   ],
   "source": [
    "df['date']"
   ]
  },
  {
   "cell_type": "code",
   "execution_count": 16,
   "metadata": {},
   "outputs": [
    {
     "name": "stderr",
     "output_type": "stream",
     "text": [
      "<ipython-input-16-174ba9bf1a5c>:1: FutureWarning: Treating datetime data as categorical rather than numeric in `.describe` is deprecated and will be removed in a future version of pandas. Specify `datetime_is_numeric=True` to silence this warning and adopt the future behavior now.\n",
      "  df.describe(include='all')\n"
     ]
    },
    {
     "data": {
      "text/html": [
       "<div>\n",
       "<style scoped>\n",
       "    .dataframe tbody tr th:only-of-type {\n",
       "        vertical-align: middle;\n",
       "    }\n",
       "\n",
       "    .dataframe tbody tr th {\n",
       "        vertical-align: top;\n",
       "    }\n",
       "\n",
       "    .dataframe thead th {\n",
       "        text-align: right;\n",
       "    }\n",
       "</style>\n",
       "<table border=\"1\" class=\"dataframe\">\n",
       "  <thead>\n",
       "    <tr style=\"text-align: right;\">\n",
       "      <th></th>\n",
       "      <th>adj_close</th>\n",
       "      <th>close</th>\n",
       "      <th>date</th>\n",
       "      <th>high</th>\n",
       "      <th>low</th>\n",
       "      <th>open</th>\n",
       "      <th>volume</th>\n",
       "    </tr>\n",
       "  </thead>\n",
       "  <tbody>\n",
       "    <tr>\n",
       "      <th>count</th>\n",
       "      <td>3270.000000</td>\n",
       "      <td>3270.000000</td>\n",
       "      <td>3270</td>\n",
       "      <td>3270.000000</td>\n",
       "      <td>3270.000000</td>\n",
       "      <td>3270.000000</td>\n",
       "      <td>3.270000e+03</td>\n",
       "    </tr>\n",
       "    <tr>\n",
       "      <th>unique</th>\n",
       "      <td>NaN</td>\n",
       "      <td>NaN</td>\n",
       "      <td>3270</td>\n",
       "      <td>NaN</td>\n",
       "      <td>NaN</td>\n",
       "      <td>NaN</td>\n",
       "      <td>NaN</td>\n",
       "    </tr>\n",
       "    <tr>\n",
       "      <th>top</th>\n",
       "      <td>NaN</td>\n",
       "      <td>NaN</td>\n",
       "      <td>2007-09-10 00:00:00</td>\n",
       "      <td>NaN</td>\n",
       "      <td>NaN</td>\n",
       "      <td>NaN</td>\n",
       "      <td>NaN</td>\n",
       "    </tr>\n",
       "    <tr>\n",
       "      <th>freq</th>\n",
       "      <td>NaN</td>\n",
       "      <td>NaN</td>\n",
       "      <td>1</td>\n",
       "      <td>NaN</td>\n",
       "      <td>NaN</td>\n",
       "      <td>NaN</td>\n",
       "      <td>NaN</td>\n",
       "    </tr>\n",
       "    <tr>\n",
       "      <th>first</th>\n",
       "      <td>NaN</td>\n",
       "      <td>NaN</td>\n",
       "      <td>2000-03-01 00:00:00</td>\n",
       "      <td>NaN</td>\n",
       "      <td>NaN</td>\n",
       "      <td>NaN</td>\n",
       "      <td>NaN</td>\n",
       "    </tr>\n",
       "    <tr>\n",
       "      <th>last</th>\n",
       "      <td>NaN</td>\n",
       "      <td>NaN</td>\n",
       "      <td>2013-03-01 00:00:00</td>\n",
       "      <td>NaN</td>\n",
       "      <td>NaN</td>\n",
       "      <td>NaN</td>\n",
       "      <td>NaN</td>\n",
       "    </tr>\n",
       "    <tr>\n",
       "      <th>mean</th>\n",
       "      <td>140.505248</td>\n",
       "      <td>151.108138</td>\n",
       "      <td>NaN</td>\n",
       "      <td>153.017789</td>\n",
       "      <td>149.103336</td>\n",
       "      <td>151.216673</td>\n",
       "      <td>2.151112e+07</td>\n",
       "    </tr>\n",
       "    <tr>\n",
       "      <th>std</th>\n",
       "      <td>165.408965</td>\n",
       "      <td>165.277867</td>\n",
       "      <td>NaN</td>\n",
       "      <td>166.815882</td>\n",
       "      <td>163.681717</td>\n",
       "      <td>165.485538</td>\n",
       "      <td>1.482164e+07</td>\n",
       "    </tr>\n",
       "    <tr>\n",
       "      <th>min</th>\n",
       "      <td>6.380000</td>\n",
       "      <td>13.120000</td>\n",
       "      <td>NaN</td>\n",
       "      <td>13.190000</td>\n",
       "      <td>12.720000</td>\n",
       "      <td>12.990000</td>\n",
       "      <td>1.405000e+06</td>\n",
       "    </tr>\n",
       "    <tr>\n",
       "      <th>25%</th>\n",
       "      <td>12.020000</td>\n",
       "      <td>24.712500</td>\n",
       "      <td>NaN</td>\n",
       "      <td>25.060000</td>\n",
       "      <td>24.092500</td>\n",
       "      <td>24.592500</td>\n",
       "      <td>1.159570e+07</td>\n",
       "    </tr>\n",
       "    <tr>\n",
       "      <th>50%</th>\n",
       "      <td>72.410000</td>\n",
       "      <td>85.340000</td>\n",
       "      <td>NaN</td>\n",
       "      <td>86.500000</td>\n",
       "      <td>84.355000</td>\n",
       "      <td>85.415000</td>\n",
       "      <td>1.730015e+07</td>\n",
       "    </tr>\n",
       "    <tr>\n",
       "      <th>75%</th>\n",
       "      <td>192.572500</td>\n",
       "      <td>198.010000</td>\n",
       "      <td>NaN</td>\n",
       "      <td>200.762500</td>\n",
       "      <td>196.027500</td>\n",
       "      <td>198.957500</td>\n",
       "      <td>2.744490e+07</td>\n",
       "    </tr>\n",
       "    <tr>\n",
       "      <th>max</th>\n",
       "      <td>685.760000</td>\n",
       "      <td>702.100000</td>\n",
       "      <td>NaN</td>\n",
       "      <td>705.070000</td>\n",
       "      <td>699.570000</td>\n",
       "      <td>702.410000</td>\n",
       "      <td>2.650690e+08</td>\n",
       "    </tr>\n",
       "  </tbody>\n",
       "</table>\n",
       "</div>"
      ],
      "text/plain": [
       "          adj_close        close                 date         high  \\\n",
       "count   3270.000000  3270.000000                 3270  3270.000000   \n",
       "unique          NaN          NaN                 3270          NaN   \n",
       "top             NaN          NaN  2007-09-10 00:00:00          NaN   \n",
       "freq            NaN          NaN                    1          NaN   \n",
       "first           NaN          NaN  2000-03-01 00:00:00          NaN   \n",
       "last            NaN          NaN  2013-03-01 00:00:00          NaN   \n",
       "mean     140.505248   151.108138                  NaN   153.017789   \n",
       "std      165.408965   165.277867                  NaN   166.815882   \n",
       "min        6.380000    13.120000                  NaN    13.190000   \n",
       "25%       12.020000    24.712500                  NaN    25.060000   \n",
       "50%       72.410000    85.340000                  NaN    86.500000   \n",
       "75%      192.572500   198.010000                  NaN   200.762500   \n",
       "max      685.760000   702.100000                  NaN   705.070000   \n",
       "\n",
       "                low         open        volume  \n",
       "count   3270.000000  3270.000000  3.270000e+03  \n",
       "unique          NaN          NaN           NaN  \n",
       "top             NaN          NaN           NaN  \n",
       "freq            NaN          NaN           NaN  \n",
       "first           NaN          NaN           NaN  \n",
       "last            NaN          NaN           NaN  \n",
       "mean     149.103336   151.216673  2.151112e+07  \n",
       "std      163.681717   165.485538  1.482164e+07  \n",
       "min       12.720000    12.990000  1.405000e+06  \n",
       "25%       24.092500    24.592500  1.159570e+07  \n",
       "50%       84.355000    85.415000  1.730015e+07  \n",
       "75%      196.027500   198.957500  2.744490e+07  \n",
       "max      699.570000   702.410000  2.650690e+08  "
      ]
     },
     "execution_count": 16,
     "metadata": {},
     "output_type": "execute_result"
    }
   ],
   "source": [
    "df.describe(include='all')"
   ]
  },
  {
   "cell_type": "code",
   "execution_count": 17,
   "metadata": {},
   "outputs": [
    {
     "name": "stderr",
     "output_type": "stream",
     "text": [
      "<ipython-input-17-07e98f8ab9f6>:1: FutureWarning: Treating datetime data as categorical rather than numeric in `.describe` is deprecated and will be removed in a future version of pandas. Specify `datetime_is_numeric=True` to silence this warning and adopt the future behavior now.\n",
      "  df['date'].describe()\n"
     ]
    },
    {
     "data": {
      "text/plain": [
       "count                    3270\n",
       "unique                   3270\n",
       "top       2007-09-10 00:00:00\n",
       "freq                        1\n",
       "first     2000-03-01 00:00:00\n",
       "last      2013-03-01 00:00:00\n",
       "Name: date, dtype: object"
      ]
     },
     "execution_count": 17,
     "metadata": {},
     "output_type": "execute_result"
    }
   ],
   "source": [
    "df['date'].describe()"
   ]
  },
  {
   "cell_type": "markdown",
   "metadata": {},
   "source": [
    "<b>Indexing the date column</b>"
   ]
  },
  {
   "cell_type": "code",
   "execution_count": 18,
   "metadata": {},
   "outputs": [
    {
     "data": {
      "text/plain": [
       "<bound method DataFrame.info of       adj_close   close       date    high     low    open    volume\n",
       "0         31.68  130.31 2000-03-01  132.06  118.50  118.56  38478000\n",
       "1         29.66  122.00 2000-03-02  127.94  120.69  127.00  11136800\n",
       "2         31.12  128.00 2000-03-03  128.23  120.00  124.87  11565200\n",
       "3         30.56  125.69 2000-03-06  129.13  125.00  126.00   7520000\n",
       "4         29.87  122.87 2000-03-07  127.44  121.12  126.44   9767600\n",
       "...         ...     ...        ...     ...     ...     ...       ...\n",
       "3265     437.00  442.80 2013-02-25  455.12  442.57  453.85  13306400\n",
       "3266     443.09  448.97 2013-02-26  451.54  437.66  443.82  17910700\n",
       "3267     438.75  444.57 2013-02-27  452.44  440.65  448.43  20976800\n",
       "3268     435.62  441.40 2013-02-28  447.87  441.40  444.05  11518400\n",
       "3269     424.83  430.47 2013-03-01  438.18  429.98  438.00  19730300\n",
       "\n",
       "[3270 rows x 7 columns]>"
      ]
     },
     "execution_count": 18,
     "metadata": {},
     "output_type": "execute_result"
    }
   ],
   "source": [
    "date_df=df.copy()\n",
    "date_df.info"
   ]
  },
  {
   "cell_type": "code",
   "execution_count": 19,
   "metadata": {},
   "outputs": [],
   "source": [
    "date_df.set_index('date',inplace=True,verify_integrity=True)"
   ]
  },
  {
   "cell_type": "code",
   "execution_count": 20,
   "metadata": {},
   "outputs": [
    {
     "data": {
      "text/plain": [
       "DatetimeIndex(['2000-03-01', '2000-03-02', '2000-03-03', '2000-03-06',\n",
       "               '2000-03-07', '2000-03-08', '2000-03-09', '2000-03-10',\n",
       "               '2000-03-13', '2000-03-14',\n",
       "               ...\n",
       "               '2013-02-15', '2013-02-19', '2013-02-20', '2013-02-21',\n",
       "               '2013-02-22', '2013-02-25', '2013-02-26', '2013-02-27',\n",
       "               '2013-02-28', '2013-03-01'],\n",
       "              dtype='datetime64[ns]', name='date', length=3270, freq=None)"
      ]
     },
     "execution_count": 20,
     "metadata": {},
     "output_type": "execute_result"
    }
   ],
   "source": [
    "date_df.index"
   ]
  },
  {
   "cell_type": "code",
   "execution_count": null,
   "metadata": {},
   "outputs": [],
   "source": []
  },
  {
   "cell_type": "markdown",
   "metadata": {},
   "source": [
    "<b>setting the frequency</b></br>"
   ]
  },
  {
   "cell_type": "code",
   "execution_count": 21,
   "metadata": {},
   "outputs": [
    {
     "name": "stdout",
     "output_type": "stream",
     "text": [
      "<class 'pandas.core.frame.DataFrame'>\n",
      "DatetimeIndex: 4749 entries, 2000-03-01 to 2013-03-01\n",
      "Freq: D\n",
      "Data columns (total 6 columns):\n",
      " #   Column     Non-Null Count  Dtype  \n",
      "---  ------     --------------  -----  \n",
      " 0   adj_close  3270 non-null   float64\n",
      " 1   close      3270 non-null   float64\n",
      " 2   high       3270 non-null   float64\n",
      " 3   low        3270 non-null   float64\n",
      " 4   open       3270 non-null   float64\n",
      " 5   volume     3270 non-null   float64\n",
      "dtypes: float64(6)\n",
      "memory usage: 259.7 KB\n"
     ]
    }
   ],
   "source": [
    "day_df=date_df.asfreq('d')\n",
    "day_df.info()"
   ]
  },
  {
   "cell_type": "code",
   "execution_count": 22,
   "metadata": {},
   "outputs": [
    {
     "data": {
      "text/html": [
       "<div>\n",
       "<style scoped>\n",
       "    .dataframe tbody tr th:only-of-type {\n",
       "        vertical-align: middle;\n",
       "    }\n",
       "\n",
       "    .dataframe tbody tr th {\n",
       "        vertical-align: top;\n",
       "    }\n",
       "\n",
       "    .dataframe thead th {\n",
       "        text-align: right;\n",
       "    }\n",
       "</style>\n",
       "<table border=\"1\" class=\"dataframe\">\n",
       "  <thead>\n",
       "    <tr style=\"text-align: right;\">\n",
       "      <th></th>\n",
       "      <th>adj_close</th>\n",
       "      <th>close</th>\n",
       "      <th>high</th>\n",
       "      <th>low</th>\n",
       "      <th>open</th>\n",
       "      <th>volume</th>\n",
       "    </tr>\n",
       "    <tr>\n",
       "      <th>date</th>\n",
       "      <th></th>\n",
       "      <th></th>\n",
       "      <th></th>\n",
       "      <th></th>\n",
       "      <th></th>\n",
       "      <th></th>\n",
       "    </tr>\n",
       "  </thead>\n",
       "  <tbody>\n",
       "    <tr>\n",
       "      <th>2000-03-01</th>\n",
       "      <td>31.68</td>\n",
       "      <td>130.31</td>\n",
       "      <td>132.06</td>\n",
       "      <td>118.50</td>\n",
       "      <td>118.56</td>\n",
       "      <td>38478000.0</td>\n",
       "    </tr>\n",
       "    <tr>\n",
       "      <th>2000-03-02</th>\n",
       "      <td>29.66</td>\n",
       "      <td>122.00</td>\n",
       "      <td>127.94</td>\n",
       "      <td>120.69</td>\n",
       "      <td>127.00</td>\n",
       "      <td>11136800.0</td>\n",
       "    </tr>\n",
       "    <tr>\n",
       "      <th>2000-03-03</th>\n",
       "      <td>31.12</td>\n",
       "      <td>128.00</td>\n",
       "      <td>128.23</td>\n",
       "      <td>120.00</td>\n",
       "      <td>124.87</td>\n",
       "      <td>11565200.0</td>\n",
       "    </tr>\n",
       "    <tr>\n",
       "      <th>2000-03-04</th>\n",
       "      <td>NaN</td>\n",
       "      <td>NaN</td>\n",
       "      <td>NaN</td>\n",
       "      <td>NaN</td>\n",
       "      <td>NaN</td>\n",
       "      <td>NaN</td>\n",
       "    </tr>\n",
       "    <tr>\n",
       "      <th>2000-03-05</th>\n",
       "      <td>NaN</td>\n",
       "      <td>NaN</td>\n",
       "      <td>NaN</td>\n",
       "      <td>NaN</td>\n",
       "      <td>NaN</td>\n",
       "      <td>NaN</td>\n",
       "    </tr>\n",
       "  </tbody>\n",
       "</table>\n",
       "</div>"
      ],
      "text/plain": [
       "            adj_close   close    high     low    open      volume\n",
       "date                                                             \n",
       "2000-03-01      31.68  130.31  132.06  118.50  118.56  38478000.0\n",
       "2000-03-02      29.66  122.00  127.94  120.69  127.00  11136800.0\n",
       "2000-03-03      31.12  128.00  128.23  120.00  124.87  11565200.0\n",
       "2000-03-04        NaN     NaN     NaN     NaN     NaN         NaN\n",
       "2000-03-05        NaN     NaN     NaN     NaN     NaN         NaN"
      ]
     },
     "execution_count": 22,
     "metadata": {},
     "output_type": "execute_result"
    }
   ],
   "source": [
    "day_df.head(5)"
   ]
  },
  {
   "cell_type": "markdown",
   "metadata": {},
   "source": [
    "<b>setting the frequency creates null values and we solve this by accounting for the business days </b></br>\n",
    "<b>we know stocks do not trade on weekends</b>"
   ]
  },
  {
   "cell_type": "code",
   "execution_count": 23,
   "metadata": {},
   "outputs": [
    {
     "data": {
      "text/html": [
       "<div>\n",
       "<style scoped>\n",
       "    .dataframe tbody tr th:only-of-type {\n",
       "        vertical-align: middle;\n",
       "    }\n",
       "\n",
       "    .dataframe tbody tr th {\n",
       "        vertical-align: top;\n",
       "    }\n",
       "\n",
       "    .dataframe thead th {\n",
       "        text-align: right;\n",
       "    }\n",
       "</style>\n",
       "<table border=\"1\" class=\"dataframe\">\n",
       "  <thead>\n",
       "    <tr style=\"text-align: right;\">\n",
       "      <th></th>\n",
       "      <th>adj_close</th>\n",
       "      <th>close</th>\n",
       "      <th>high</th>\n",
       "      <th>low</th>\n",
       "      <th>open</th>\n",
       "      <th>volume</th>\n",
       "    </tr>\n",
       "    <tr>\n",
       "      <th>date</th>\n",
       "      <th></th>\n",
       "      <th></th>\n",
       "      <th></th>\n",
       "      <th></th>\n",
       "      <th></th>\n",
       "      <th></th>\n",
       "    </tr>\n",
       "  </thead>\n",
       "  <tbody>\n",
       "    <tr>\n",
       "      <th>2000-03-01</th>\n",
       "      <td>31.68</td>\n",
       "      <td>130.31</td>\n",
       "      <td>132.06</td>\n",
       "      <td>118.50</td>\n",
       "      <td>118.56</td>\n",
       "      <td>38478000.0</td>\n",
       "    </tr>\n",
       "    <tr>\n",
       "      <th>2000-03-02</th>\n",
       "      <td>29.66</td>\n",
       "      <td>122.00</td>\n",
       "      <td>127.94</td>\n",
       "      <td>120.69</td>\n",
       "      <td>127.00</td>\n",
       "      <td>11136800.0</td>\n",
       "    </tr>\n",
       "    <tr>\n",
       "      <th>2000-03-03</th>\n",
       "      <td>31.12</td>\n",
       "      <td>128.00</td>\n",
       "      <td>128.23</td>\n",
       "      <td>120.00</td>\n",
       "      <td>124.87</td>\n",
       "      <td>11565200.0</td>\n",
       "    </tr>\n",
       "    <tr>\n",
       "      <th>2000-03-06</th>\n",
       "      <td>30.56</td>\n",
       "      <td>125.69</td>\n",
       "      <td>129.13</td>\n",
       "      <td>125.00</td>\n",
       "      <td>126.00</td>\n",
       "      <td>7520000.0</td>\n",
       "    </tr>\n",
       "    <tr>\n",
       "      <th>2000-03-07</th>\n",
       "      <td>29.87</td>\n",
       "      <td>122.87</td>\n",
       "      <td>127.44</td>\n",
       "      <td>121.12</td>\n",
       "      <td>126.44</td>\n",
       "      <td>9767600.0</td>\n",
       "    </tr>\n",
       "  </tbody>\n",
       "</table>\n",
       "</div>"
      ],
      "text/plain": [
       "            adj_close   close    high     low    open      volume\n",
       "date                                                             \n",
       "2000-03-01      31.68  130.31  132.06  118.50  118.56  38478000.0\n",
       "2000-03-02      29.66  122.00  127.94  120.69  127.00  11136800.0\n",
       "2000-03-03      31.12  128.00  128.23  120.00  124.87  11565200.0\n",
       "2000-03-06      30.56  125.69  129.13  125.00  126.00   7520000.0\n",
       "2000-03-07      29.87  122.87  127.44  121.12  126.44   9767600.0"
      ]
     },
     "execution_count": 23,
     "metadata": {},
     "output_type": "execute_result"
    }
   ],
   "source": [
    "day_df=day_df.asfreq('b')\n",
    "day_df.head(5)"
   ]
  },
  {
   "cell_type": "markdown",
   "metadata": {},
   "source": [
    "<b>plotting using the mothly volume trading values</b>"
   ]
  },
  {
   "cell_type": "code",
   "execution_count": 24,
   "metadata": {},
   "outputs": [],
   "source": [
    "month_df=pd.DataFrame(data=day_df,index=day_df.index,columns=['volume'])"
   ]
  },
  {
   "cell_type": "code",
   "execution_count": 25,
   "metadata": {},
   "outputs": [
    {
     "name": "stdout",
     "output_type": "stream",
     "text": [
      "<class 'pandas.core.frame.DataFrame'>\n",
      "DatetimeIndex: 3393 entries, 2000-03-01 to 2013-03-01\n",
      "Freq: B\n",
      "Data columns (total 1 columns):\n",
      " #   Column  Non-Null Count  Dtype  \n",
      "---  ------  --------------  -----  \n",
      " 0   volume  3270 non-null   float64\n",
      "dtypes: float64(1)\n",
      "memory usage: 53.0 KB\n"
     ]
    }
   ],
   "source": [
    "month_df.info()"
   ]
  },
  {
   "cell_type": "markdown",
   "metadata": {},
   "source": [
    "<b>setting the frequency to be monthly</b>"
   ]
  },
  {
   "cell_type": "code",
   "execution_count": 26,
   "metadata": {},
   "outputs": [],
   "source": [
    "month_df=month_df.asfreq('m')"
   ]
  },
  {
   "cell_type": "code",
   "execution_count": 27,
   "metadata": {},
   "outputs": [
    {
     "data": {
      "text/plain": [
       "volume    45\n",
       "dtype: int64"
      ]
     },
     "execution_count": 27,
     "metadata": {},
     "output_type": "execute_result"
    }
   ],
   "source": [
    "month_df.isna().sum()"
   ]
  },
  {
   "cell_type": "code",
   "execution_count": 28,
   "metadata": {},
   "outputs": [],
   "source": [
    "month_df.fillna(method='ffill',inplace=True)"
   ]
  },
  {
   "cell_type": "code",
   "execution_count": 29,
   "metadata": {},
   "outputs": [
    {
     "data": {
      "text/plain": [
       "volume    0\n",
       "dtype: int64"
      ]
     },
     "execution_count": 29,
     "metadata": {},
     "output_type": "execute_result"
    }
   ],
   "source": [
    "month_df.isna().sum()"
   ]
  },
  {
   "cell_type": "code",
   "execution_count": 30,
   "metadata": {},
   "outputs": [
    {
     "data": {
      "text/plain": [
       "Text(0, 0.5, 'Volume ')"
      ]
     },
     "execution_count": 30,
     "metadata": {},
     "output_type": "execute_result"
    },
    {
     "data": {
      "image/png": "[encoded data removed]",
      "text/plain": [
       "<Figure size 1584x720 with 1 Axes>"
      ]
     },
     "metadata": {
      "needs_background": "light"
     },
     "output_type": "display_data"
    }
   ],
   "source": [
    "plt.figure(figsize=(22,10))\n",
    "sns.lineplot(data=month_df)\n",
    "plt.title('Monthly Trading Volume')\n",
    "plt.ylabel('Volume ')"
   ]
  },
  {
   "cell_type": "markdown",
   "metadata": {},
   "source": [
    "<b>creating a new data frame for the high and low values</b>"
   ]
  },
  {
   "cell_type": "code",
   "execution_count": 31,
   "metadata": {},
   "outputs": [],
   "source": [
    "month_df=pd.DataFrame(data=day_df,index=day_df.index,columns=['high','low'])"
   ]
  },
  {
   "cell_type": "code",
   "execution_count": 32,
   "metadata": {},
   "outputs": [
    {
     "data": {
      "text/html": [
       "<div>\n",
       "<style scoped>\n",
       "    .dataframe tbody tr th:only-of-type {\n",
       "        vertical-align: middle;\n",
       "    }\n",
       "\n",
       "    .dataframe tbody tr th {\n",
       "        vertical-align: top;\n",
       "    }\n",
       "\n",
       "    .dataframe thead th {\n",
       "        text-align: right;\n",
       "    }\n",
       "</style>\n",
       "<table border=\"1\" class=\"dataframe\">\n",
       "  <thead>\n",
       "    <tr style=\"text-align: right;\">\n",
       "      <th></th>\n",
       "      <th>high</th>\n",
       "      <th>low</th>\n",
       "    </tr>\n",
       "    <tr>\n",
       "      <th>date</th>\n",
       "      <th></th>\n",
       "      <th></th>\n",
       "    </tr>\n",
       "  </thead>\n",
       "  <tbody>\n",
       "    <tr>\n",
       "      <th>2000-03-01</th>\n",
       "      <td>132.06</td>\n",
       "      <td>118.50</td>\n",
       "    </tr>\n",
       "    <tr>\n",
       "      <th>2000-03-02</th>\n",
       "      <td>127.94</td>\n",
       "      <td>120.69</td>\n",
       "    </tr>\n",
       "    <tr>\n",
       "      <th>2000-03-03</th>\n",
       "      <td>128.23</td>\n",
       "      <td>120.00</td>\n",
       "    </tr>\n",
       "    <tr>\n",
       "      <th>2000-03-06</th>\n",
       "      <td>129.13</td>\n",
       "      <td>125.00</td>\n",
       "    </tr>\n",
       "    <tr>\n",
       "      <th>2000-03-07</th>\n",
       "      <td>127.44</td>\n",
       "      <td>121.12</td>\n",
       "    </tr>\n",
       "  </tbody>\n",
       "</table>\n",
       "</div>"
      ],
      "text/plain": [
       "              high     low\n",
       "date                      \n",
       "2000-03-01  132.06  118.50\n",
       "2000-03-02  127.94  120.69\n",
       "2000-03-03  128.23  120.00\n",
       "2000-03-06  129.13  125.00\n",
       "2000-03-07  127.44  121.12"
      ]
     },
     "execution_count": 32,
     "metadata": {},
     "output_type": "execute_result"
    }
   ],
   "source": [
    "month_df.head()"
   ]
  },
  {
   "cell_type": "code",
   "execution_count": 33,
   "metadata": {},
   "outputs": [
    {
     "name": "stdout",
     "output_type": "stream",
     "text": [
      "<class 'pandas.core.frame.DataFrame'>\n",
      "DatetimeIndex: 3393 entries, 2000-03-01 to 2013-03-01\n",
      "Freq: B\n",
      "Data columns (total 2 columns):\n",
      " #   Column  Non-Null Count  Dtype  \n",
      "---  ------  --------------  -----  \n",
      " 0   high    3270 non-null   float64\n",
      " 1   low     3270 non-null   float64\n",
      "dtypes: float64(2)\n",
      "memory usage: 239.5 KB\n"
     ]
    }
   ],
   "source": [
    "month_df.info()"
   ]
  },
  {
   "cell_type": "markdown",
   "metadata": {},
   "source": [
    "<b>checking for null values</b>"
   ]
  },
  {
   "cell_type": "code",
   "execution_count": 34,
   "metadata": {},
   "outputs": [
    {
     "data": {
      "text/plain": [
       "high    123\n",
       "low     123\n",
       "dtype: int64"
      ]
     },
     "execution_count": 34,
     "metadata": {},
     "output_type": "execute_result"
    }
   ],
   "source": [
    "month_df.isna().sum()"
   ]
  },
  {
   "cell_type": "markdown",
   "metadata": {},
   "source": [
    "<b>removing null values</b>"
   ]
  },
  {
   "cell_type": "code",
   "execution_count": 35,
   "metadata": {},
   "outputs": [],
   "source": [
    "month_df.fillna(method='bfill',inplace=True)"
   ]
  },
  {
   "cell_type": "code",
   "execution_count": 36,
   "metadata": {},
   "outputs": [
    {
     "data": {
      "text/plain": [
       "high    0\n",
       "low     0\n",
       "dtype: int64"
      ]
     },
     "execution_count": 36,
     "metadata": {},
     "output_type": "execute_result"
    }
   ],
   "source": [
    "month_df.isna().sum()"
   ]
  },
  {
   "cell_type": "markdown",
   "metadata": {},
   "source": [
    "<b>setting the frequency to be monthly</b>"
   ]
  },
  {
   "cell_type": "code",
   "execution_count": 37,
   "metadata": {},
   "outputs": [],
   "source": [
    "month_df=month_df.asfreq('m')"
   ]
  },
  {
   "cell_type": "code",
   "execution_count": 38,
   "metadata": {},
   "outputs": [
    {
     "data": {
      "text/plain": [
       "<AxesSubplot:title={'center':'Highs and Lows'}, xlabel='date', ylabel='Values'>"
      ]
     },
     "execution_count": 38,
     "metadata": {},
     "output_type": "execute_result"
    },
    {
     "data": {
      "image/png": "[encoded data removed]",
      "text/plain": [
       "<Figure size 1584x720 with 1 Axes>"
      ]
     },
     "metadata": {
      "needs_background": "light"
     },
     "output_type": "display_data"
    }
   ],
   "source": [
    "plt.figure(figsize=(22,10))\n",
    "plt.title('Highs and Lows')\n",
    "plt.ylabel('Values')\n",
    "sns.lineplot(data=month_df)"
   ]
  },
  {
   "cell_type": "markdown",
   "metadata": {},
   "source": [
    "<b>they generally follow the same trend</b>"
   ]
  },
  {
   "cell_type": "markdown",
   "metadata": {},
   "source": [
    "<b>Trying to predict the close price</b>"
   ]
  },
  {
   "cell_type": "markdown",
   "metadata": {},
   "source": [
    "<b>creating dataframe with date and the target variable</b>"
   ]
  },
  {
   "cell_type": "code",
   "execution_count": 39,
   "metadata": {},
   "outputs": [],
   "source": [
    "month_df=pd.DataFrame(data=day_df,index=day_df.index,columns=['close'])"
   ]
  },
  {
   "cell_type": "code",
   "execution_count": 40,
   "metadata": {},
   "outputs": [],
   "source": [
    "month_df=month_df.asfreq('m')"
   ]
  },
  {
   "cell_type": "code",
   "execution_count": 41,
   "metadata": {},
   "outputs": [
    {
     "data": {
      "text/plain": [
       "close    45\n",
       "dtype: int64"
      ]
     },
     "execution_count": 41,
     "metadata": {},
     "output_type": "execute_result"
    }
   ],
   "source": [
    "month_df.isna().sum()"
   ]
  },
  {
   "cell_type": "code",
   "execution_count": 42,
   "metadata": {},
   "outputs": [],
   "source": [
    "month_df.fillna(method='ffill',inplace=True)"
   ]
  },
  {
   "cell_type": "code",
   "execution_count": 43,
   "metadata": {},
   "outputs": [
    {
     "data": {
      "text/plain": [
       "close    0\n",
       "dtype: int64"
      ]
     },
     "execution_count": 43,
     "metadata": {},
     "output_type": "execute_result"
    }
   ],
   "source": [
    "month_df.isna().sum()"
   ]
  },
  {
   "cell_type": "code",
   "execution_count": 44,
   "metadata": {},
   "outputs": [
    {
     "data": {
      "text/plain": [
       "<AxesSubplot:title={'center':'Closing Price Trend'}, xlabel='date', ylabel='Values'>"
      ]
     },
     "execution_count": 44,
     "metadata": {},
     "output_type": "execute_result"
    },
    {
     "data": {
      "image/png": "[encoded data removed]",
      "text/plain": [
       "<Figure size 1584x720 with 1 Axes>"
      ]
     },
     "metadata": {
      "needs_background": "light"
     },
     "output_type": "display_data"
    }
   ],
   "source": [
    "plt.figure(figsize=(22,10))\n",
    "plt.title('Closing Price Trend')\n",
    "plt.ylabel('Values')\n",
    "sns.lineplot(data=month_df)"
   ]
  },
  {
   "cell_type": "markdown",
   "metadata": {},
   "source": [
    "<b>Machine Learning</b>"
   ]
  },
  {
   "cell_type": "markdown",
   "metadata": {},
   "source": [
    "<p>training and testing using 80:20 ratio</p>"
   ]
  },
  {
   "cell_type": "code",
   "execution_count": 45,
   "metadata": {},
   "outputs": [
    {
     "data": {
      "text/plain": [
       "124"
      ]
     },
     "execution_count": 45,
     "metadata": {},
     "output_type": "execute_result"
    }
   ],
   "source": [
    "size= int(len(month_df)*0.8)\n",
    "size"
   ]
  },
  {
   "cell_type": "code",
   "execution_count": 46,
   "metadata": {},
   "outputs": [],
   "source": [
    "month_df_train = month_df.iloc[:size]\n"
   ]
  },
  {
   "cell_type": "code",
   "execution_count": 47,
   "metadata": {},
   "outputs": [],
   "source": [
    "month_df_test = month_df.iloc[size:]"
   ]
  },
  {
   "cell_type": "code",
   "execution_count": 48,
   "metadata": {},
   "outputs": [
    {
     "data": {
      "text/html": [
       "<div>\n",
       "<style scoped>\n",
       "    .dataframe tbody tr th:only-of-type {\n",
       "        vertical-align: middle;\n",
       "    }\n",
       "\n",
       "    .dataframe tbody tr th {\n",
       "        vertical-align: top;\n",
       "    }\n",
       "\n",
       "    .dataframe thead th {\n",
       "        text-align: right;\n",
       "    }\n",
       "</style>\n",
       "<table border=\"1\" class=\"dataframe\">\n",
       "  <thead>\n",
       "    <tr style=\"text-align: right;\">\n",
       "      <th></th>\n",
       "      <th>close</th>\n",
       "    </tr>\n",
       "    <tr>\n",
       "      <th>date</th>\n",
       "      <th></th>\n",
       "    </tr>\n",
       "  </thead>\n",
       "  <tbody>\n",
       "    <tr>\n",
       "      <th>2010-02-28</th>\n",
       "      <td>210.73</td>\n",
       "    </tr>\n",
       "    <tr>\n",
       "      <th>2010-03-31</th>\n",
       "      <td>235.00</td>\n",
       "    </tr>\n",
       "    <tr>\n",
       "      <th>2010-04-30</th>\n",
       "      <td>261.09</td>\n",
       "    </tr>\n",
       "    <tr>\n",
       "      <th>2010-05-31</th>\n",
       "      <td>261.09</td>\n",
       "    </tr>\n",
       "    <tr>\n",
       "      <th>2010-06-30</th>\n",
       "      <td>251.53</td>\n",
       "    </tr>\n",
       "  </tbody>\n",
       "</table>\n",
       "</div>"
      ],
      "text/plain": [
       "             close\n",
       "date              \n",
       "2010-02-28  210.73\n",
       "2010-03-31  235.00\n",
       "2010-04-30  261.09\n",
       "2010-05-31  261.09\n",
       "2010-06-30  251.53"
      ]
     },
     "execution_count": 48,
     "metadata": {},
     "output_type": "execute_result"
    }
   ],
   "source": [
    "month_df_train.tail(5)"
   ]
  },
  {
   "cell_type": "code",
   "execution_count": 49,
   "metadata": {},
   "outputs": [
    {
     "data": {
      "text/html": [
       "<div>\n",
       "<style scoped>\n",
       "    .dataframe tbody tr th:only-of-type {\n",
       "        vertical-align: middle;\n",
       "    }\n",
       "\n",
       "    .dataframe tbody tr th {\n",
       "        vertical-align: top;\n",
       "    }\n",
       "\n",
       "    .dataframe thead th {\n",
       "        text-align: right;\n",
       "    }\n",
       "</style>\n",
       "<table border=\"1\" class=\"dataframe\">\n",
       "  <thead>\n",
       "    <tr style=\"text-align: right;\">\n",
       "      <th></th>\n",
       "      <th>close</th>\n",
       "    </tr>\n",
       "    <tr>\n",
       "      <th>date</th>\n",
       "      <th></th>\n",
       "    </tr>\n",
       "  </thead>\n",
       "  <tbody>\n",
       "    <tr>\n",
       "      <th>2010-07-31</th>\n",
       "      <td>251.53</td>\n",
       "    </tr>\n",
       "    <tr>\n",
       "      <th>2010-08-31</th>\n",
       "      <td>243.10</td>\n",
       "    </tr>\n",
       "    <tr>\n",
       "      <th>2010-09-30</th>\n",
       "      <td>283.75</td>\n",
       "    </tr>\n",
       "    <tr>\n",
       "      <th>2010-10-31</th>\n",
       "      <td>283.75</td>\n",
       "    </tr>\n",
       "    <tr>\n",
       "      <th>2010-11-30</th>\n",
       "      <td>311.15</td>\n",
       "    </tr>\n",
       "  </tbody>\n",
       "</table>\n",
       "</div>"
      ],
      "text/plain": [
       "             close\n",
       "date              \n",
       "2010-07-31  251.53\n",
       "2010-08-31  243.10\n",
       "2010-09-30  283.75\n",
       "2010-10-31  283.75\n",
       "2010-11-30  311.15"
      ]
     },
     "execution_count": 49,
     "metadata": {},
     "output_type": "execute_result"
    }
   ],
   "source": [
    "month_df_test.head(5)"
   ]
  },
  {
   "cell_type": "code",
   "execution_count": null,
   "metadata": {},
   "outputs": [],
   "source": []
  },
  {
   "cell_type": "code",
   "execution_count": 50,
   "metadata": {},
   "outputs": [
    {
     "name": "stdout",
     "output_type": "stream",
     "text": [
      "Requirement already satisfied: pmdarima in c:\\users\\bradley\\anaconda3\\envs\\class-venv1\\lib\\site-packages (1.7.1)\n",
      "Requirement already satisfied: urllib3 in c:\\users\\bradley\\anaconda3\\envs\\class-venv1\\lib\\site-packages (from pmdarima) (1.25.10)\n",
      "Requirement already satisfied: scikit-learn>=0.22 in c:\\users\\bradley\\anaconda3\\envs\\class-venv1\\lib\\site-packages (from pmdarima) (0.23.2)\n",
      "Requirement already satisfied: joblib>=0.11 in c:\\users\\bradley\\anaconda3\\envs\\class-venv1\\lib\\site-packages (from pmdarima) (0.17.0)\n",
      "Requirement already satisfied: setuptools<50.0.0 in c:\\users\\bradley\\anaconda3\\envs\\class-venv1\\lib\\site-packages (from pmdarima) (49.6.0)\n",
      "Requirement already satisfied: statsmodels<0.12,>=0.11 in c:\\users\\bradley\\anaconda3\\envs\\class-venv1\\lib\\site-packages (from pmdarima) (0.11.1)\n",
      "Requirement already satisfied: scipy>=1.3.2 in c:\\users\\bradley\\anaconda3\\envs\\class-venv1\\lib\\site-packages (from pmdarima) (1.5.0)\n",
      "Requirement already satisfied: Cython<0.29.18,>=0.29 in c:\\users\\bradley\\anaconda3\\envs\\class-venv1\\lib\\site-packages (from pmdarima) (0.29.17)\n",
      "Requirement already satisfied: pandas>=0.19 in c:\\users\\bradley\\anaconda3\\envs\\class-venv1\\lib\\site-packages (from pmdarima) (1.1.3)\n",
      "Requirement already satisfied: numpy>=1.17.3 in c:\\users\\bradley\\anaconda3\\envs\\class-venv1\\lib\\site-packages (from pmdarima) (1.19.1)\n",
      "Requirement already satisfied: threadpoolctl>=2.0.0 in c:\\users\\bradley\\anaconda3\\envs\\class-venv1\\lib\\site-packages (from scikit-learn>=0.22->pmdarima) (2.1.0)\n",
      "Requirement already satisfied: patsy>=0.5 in c:\\users\\bradley\\anaconda3\\envs\\class-venv1\\lib\\site-packages (from statsmodels<0.12,>=0.11->pmdarima) (0.5.1)\n",
      "Requirement already satisfied: pytz>=2017.2 in c:\\users\\bradley\\anaconda3\\envs\\class-venv1\\lib\\site-packages (from pandas>=0.19->pmdarima) (2020.1)\n",
      "Requirement already satisfied: python-dateutil>=2.7.3 in c:\\users\\bradley\\anaconda3\\envs\\class-venv1\\lib\\site-packages (from pandas>=0.19->pmdarima) (2.8.1)\n",
      "Requirement already satisfied: six in c:\\users\\bradley\\anaconda3\\envs\\class-venv1\\lib\\site-packages (from patsy>=0.5->statsmodels<0.12,>=0.11->pmdarima) (1.15.0)\n"
     ]
    }
   ],
   "source": [
    "!pip install pmdarima"
   ]
  },
  {
   "cell_type": "code",
   "execution_count": 51,
   "metadata": {},
   "outputs": [],
   "source": [
    "from pmdarima.arima import auto_arima"
   ]
  },
  {
   "cell_type": "code",
   "execution_count": null,
   "metadata": {},
   "outputs": [],
   "source": []
  },
  {
   "cell_type": "markdown",
   "metadata": {},
   "source": [
    "<b>Computing the percentage change</b>"
   ]
  },
  {
   "cell_type": "code",
   "execution_count": 52,
   "metadata": {},
   "outputs": [
    {
     "data": {
      "text/html": [
       "<div>\n",
       "<style scoped>\n",
       "    .dataframe tbody tr th:only-of-type {\n",
       "        vertical-align: middle;\n",
       "    }\n",
       "\n",
       "    .dataframe tbody tr th {\n",
       "        vertical-align: top;\n",
       "    }\n",
       "\n",
       "    .dataframe thead th {\n",
       "        text-align: right;\n",
       "    }\n",
       "</style>\n",
       "<table border=\"1\" class=\"dataframe\">\n",
       "  <thead>\n",
       "    <tr style=\"text-align: right;\">\n",
       "      <th></th>\n",
       "      <th>close</th>\n",
       "      <th>ret_close</th>\n",
       "    </tr>\n",
       "    <tr>\n",
       "      <th>date</th>\n",
       "      <th></th>\n",
       "      <th></th>\n",
       "    </tr>\n",
       "  </thead>\n",
       "  <tbody>\n",
       "    <tr>\n",
       "      <th>2000-03-31</th>\n",
       "      <td>135.81</td>\n",
       "      <td>NaN</td>\n",
       "    </tr>\n",
       "    <tr>\n",
       "      <th>2000-04-30</th>\n",
       "      <td>135.81</td>\n",
       "      <td>0.000000</td>\n",
       "    </tr>\n",
       "    <tr>\n",
       "      <th>2000-05-31</th>\n",
       "      <td>84.00</td>\n",
       "      <td>-38.148884</td>\n",
       "    </tr>\n",
       "    <tr>\n",
       "      <th>2000-06-30</th>\n",
       "      <td>52.38</td>\n",
       "      <td>-37.642857</td>\n",
       "    </tr>\n",
       "    <tr>\n",
       "      <th>2000-07-31</th>\n",
       "      <td>50.81</td>\n",
       "      <td>-2.997327</td>\n",
       "    </tr>\n",
       "    <tr>\n",
       "      <th>...</th>\n",
       "      <td>...</td>\n",
       "      <td>...</td>\n",
       "    </tr>\n",
       "    <tr>\n",
       "      <th>2012-10-31</th>\n",
       "      <td>595.32</td>\n",
       "      <td>-10.510492</td>\n",
       "    </tr>\n",
       "    <tr>\n",
       "      <th>2012-11-30</th>\n",
       "      <td>585.28</td>\n",
       "      <td>-1.686488</td>\n",
       "    </tr>\n",
       "    <tr>\n",
       "      <th>2012-12-31</th>\n",
       "      <td>532.17</td>\n",
       "      <td>-9.074289</td>\n",
       "    </tr>\n",
       "    <tr>\n",
       "      <th>2013-01-31</th>\n",
       "      <td>455.49</td>\n",
       "      <td>-14.408929</td>\n",
       "    </tr>\n",
       "    <tr>\n",
       "      <th>2013-02-28</th>\n",
       "      <td>441.40</td>\n",
       "      <td>-3.093372</td>\n",
       "    </tr>\n",
       "  </tbody>\n",
       "</table>\n",
       "<p>156 rows × 2 columns</p>\n",
       "</div>"
      ],
      "text/plain": [
       "             close  ret_close\n",
       "date                         \n",
       "2000-03-31  135.81        NaN\n",
       "2000-04-30  135.81   0.000000\n",
       "2000-05-31   84.00 -38.148884\n",
       "2000-06-30   52.38 -37.642857\n",
       "2000-07-31   50.81  -2.997327\n",
       "...            ...        ...\n",
       "2012-10-31  595.32 -10.510492\n",
       "2012-11-30  585.28  -1.686488\n",
       "2012-12-31  532.17  -9.074289\n",
       "2013-01-31  455.49 -14.408929\n",
       "2013-02-28  441.40  -3.093372\n",
       "\n",
       "[156 rows x 2 columns]"
      ]
     },
     "execution_count": 52,
     "metadata": {},
     "output_type": "execute_result"
    }
   ],
   "source": [
    "month_df['ret_close'] = month_df['close'].pct_change(1)*100\n",
    "month_df"
   ]
  },
  {
   "cell_type": "code",
   "execution_count": 53,
   "metadata": {},
   "outputs": [
    {
     "data": {
      "image/png": "[encoded data removed]",
      "text/plain": [
       "<Figure size 1440x720 with 1 Axes>"
      ]
     },
     "metadata": {
      "needs_background": "light"
     },
     "output_type": "display_data"
    }
   ],
   "source": [
    "plt.figure(figsize=(20, 10))\n",
    "sns.barplot(x = month_df.index, y = month_df['ret_close'], data = month_df)\n",
    "#plt.xlabel('Date', rot=0.45)\n",
    "plt.xticks(rotation=45)\n",
    "plt.show()"
   ]
  },
  {
   "cell_type": "code",
   "execution_count": 54,
   "metadata": {},
   "outputs": [
    {
     "data": {
      "text/plain": [
       "[<matplotlib.lines.Line2D at 0x1a41e5911c0>]"
      ]
     },
     "execution_count": 54,
     "metadata": {},
     "output_type": "execute_result"
    },
    {
     "data": {
      "image/png": "[encoded data removed]",
      "text/plain": [
       "<Figure size 1584x720 with 1 Axes>"
      ]
     },
     "metadata": {
      "needs_background": "light"
     },
     "output_type": "display_data"
    }
   ],
   "source": [
    "plt.figure(figsize=(22,10))\n",
    "plt.plot(month_df['ret_close'])"
   ]
  },
  {
   "cell_type": "markdown",
   "metadata": {},
   "source": [
    "<b>fitting a model</b>"
   ]
  },
  {
   "cell_type": "code",
   "execution_count": 55,
   "metadata": {},
   "outputs": [],
   "source": [
    "model_auto = auto_arima(month_df.close[1:])"
   ]
  },
  {
   "cell_type": "code",
   "execution_count": 56,
   "metadata": {},
   "outputs": [
    {
     "data": {
      "text/plain": [
       "ARIMA(order=(1, 1, 0), scoring_args={}, with_intercept=False)"
      ]
     },
     "execution_count": 56,
     "metadata": {},
     "output_type": "execute_result"
    }
   ],
   "source": [
    "model_auto"
   ]
  },
  {
   "cell_type": "code",
   "execution_count": 57,
   "metadata": {},
   "outputs": [],
   "source": [
    "from fbprophet import Prophet"
   ]
  },
  {
   "cell_type": "code",
   "execution_count": 58,
   "metadata": {},
   "outputs": [
    {
     "name": "stdout",
     "output_type": "stream",
     "text": [
      "<class 'pandas.core.frame.DataFrame'>\n",
      "DatetimeIndex: 156 entries, 2000-03-31 to 2013-02-28\n",
      "Freq: M\n",
      "Data columns (total 2 columns):\n",
      " #   Column     Non-Null Count  Dtype  \n",
      "---  ------     --------------  -----  \n",
      " 0   close      156 non-null    float64\n",
      " 1   ret_close  155 non-null    float64\n",
      "dtypes: float64(2)\n",
      "memory usage: 3.7 KB\n"
     ]
    }
   ],
   "source": [
    "month_df.info()"
   ]
  },
  {
   "cell_type": "code",
   "execution_count": 59,
   "metadata": {},
   "outputs": [
    {
     "name": "stdout",
     "output_type": "stream",
     "text": [
      "<class 'pandas.core.frame.DataFrame'>\n",
      "RangeIndex: 3270 entries, 0 to 3269\n",
      "Data columns (total 2 columns):\n",
      " #   Column  Non-Null Count  Dtype         \n",
      "---  ------  --------------  -----         \n",
      " 0   date    3270 non-null   datetime64[ns]\n",
      " 1   close   3270 non-null   float64       \n",
      "dtypes: datetime64[ns](1), float64(1)\n",
      "memory usage: 51.2 KB\n"
     ]
    }
   ],
   "source": [
    "close_df =df[['date','close']]\n",
    "close_df.info()"
   ]
  },
  {
   "cell_type": "code",
   "execution_count": 60,
   "metadata": {},
   "outputs": [
    {
     "name": "stdout",
     "output_type": "stream",
     "text": [
      "<class 'pandas.core.frame.DataFrame'>\n",
      "RangeIndex: 3270 entries, 0 to 3269\n",
      "Data columns (total 2 columns):\n",
      " #   Column  Non-Null Count  Dtype         \n",
      "---  ------  --------------  -----         \n",
      " 0   date    3270 non-null   datetime64[ns]\n",
      " 1   close   3270 non-null   float64       \n",
      "dtypes: datetime64[ns](1), float64(1)\n",
      "memory usage: 51.2 KB\n"
     ]
    }
   ],
   "source": [
    "close_df = pd.DataFrame(data=df, index=df.index, columns = ['date','close'] )\n",
    "close_df.info()"
   ]
  },
  {
   "cell_type": "code",
   "execution_count": null,
   "metadata": {},
   "outputs": [],
   "source": []
  },
  {
   "cell_type": "code",
   "execution_count": 61,
   "metadata": {},
   "outputs": [
    {
     "name": "stdout",
     "output_type": "stream",
     "text": [
      "<class 'pandas.core.frame.DataFrame'>\n",
      "RangeIndex: 3270 entries, 0 to 3269\n",
      "Data columns (total 2 columns):\n",
      " #   Column  Non-Null Count  Dtype         \n",
      "---  ------  --------------  -----         \n",
      " 0   ds      3270 non-null   datetime64[ns]\n",
      " 1   y       3270 non-null   float64       \n",
      "dtypes: datetime64[ns](1), float64(1)\n",
      "memory usage: 51.2 KB\n"
     ]
    }
   ],
   "source": [
    "close_df.rename(columns={'date':'ds', 'close':'y'}, inplace=True)\n",
    "close_df.info()"
   ]
  },
  {
   "cell_type": "code",
   "execution_count": 62,
   "metadata": {},
   "outputs": [
    {
     "name": "stderr",
     "output_type": "stream",
     "text": [
      "INFO:fbprophet:Disabling daily seasonality. Run prophet with daily_seasonality=True to override this.\n"
     ]
    },
    {
     "data": {
      "text/plain": [
       "<fbprophet.forecaster.Prophet at 0x1a41cc98af0>"
      ]
     },
     "execution_count": 62,
     "metadata": {},
     "output_type": "execute_result"
    }
   ],
   "source": [
    "model = Prophet()\n",
    "model.fit(close_df)"
   ]
  },
  {
   "cell_type": "code",
   "execution_count": 63,
   "metadata": {},
   "outputs": [
    {
     "data": {
      "text/html": [
       "<div>\n",
       "<style scoped>\n",
       "    .dataframe tbody tr th:only-of-type {\n",
       "        vertical-align: middle;\n",
       "    }\n",
       "\n",
       "    .dataframe tbody tr th {\n",
       "        vertical-align: top;\n",
       "    }\n",
       "\n",
       "    .dataframe thead th {\n",
       "        text-align: right;\n",
       "    }\n",
       "</style>\n",
       "<table border=\"1\" class=\"dataframe\">\n",
       "  <thead>\n",
       "    <tr style=\"text-align: right;\">\n",
       "      <th></th>\n",
       "      <th>ds</th>\n",
       "    </tr>\n",
       "  </thead>\n",
       "  <tbody>\n",
       "    <tr>\n",
       "      <th>3630</th>\n",
       "      <td>2014-02-25</td>\n",
       "    </tr>\n",
       "    <tr>\n",
       "      <th>3631</th>\n",
       "      <td>2014-02-26</td>\n",
       "    </tr>\n",
       "    <tr>\n",
       "      <th>3632</th>\n",
       "      <td>2014-02-27</td>\n",
       "    </tr>\n",
       "    <tr>\n",
       "      <th>3633</th>\n",
       "      <td>2014-02-28</td>\n",
       "    </tr>\n",
       "    <tr>\n",
       "      <th>3634</th>\n",
       "      <td>2014-03-01</td>\n",
       "    </tr>\n",
       "  </tbody>\n",
       "</table>\n",
       "</div>"
      ],
      "text/plain": [
       "             ds\n",
       "3630 2014-02-25\n",
       "3631 2014-02-26\n",
       "3632 2014-02-27\n",
       "3633 2014-02-28\n",
       "3634 2014-03-01"
      ]
     },
     "execution_count": 63,
     "metadata": {},
     "output_type": "execute_result"
    }
   ],
   "source": [
    "future = model.make_future_dataframe(periods=365)#predict for another 365 days\n",
    "future.tail()"
   ]
  },
  {
   "cell_type": "code",
   "execution_count": 64,
   "metadata": {},
   "outputs": [
    {
     "data": {
      "text/html": [
       "<div>\n",
       "<style scoped>\n",
       "    .dataframe tbody tr th:only-of-type {\n",
       "        vertical-align: middle;\n",
       "    }\n",
       "\n",
       "    .dataframe tbody tr th {\n",
       "        vertical-align: top;\n",
       "    }\n",
       "\n",
       "    .dataframe thead th {\n",
       "        text-align: right;\n",
       "    }\n",
       "</style>\n",
       "<table border=\"1\" class=\"dataframe\">\n",
       "  <thead>\n",
       "    <tr style=\"text-align: right;\">\n",
       "      <th></th>\n",
       "      <th>ds</th>\n",
       "      <th>yhat</th>\n",
       "      <th>yhat_lower</th>\n",
       "      <th>yhat_upper</th>\n",
       "    </tr>\n",
       "  </thead>\n",
       "  <tbody>\n",
       "    <tr>\n",
       "      <th>3630</th>\n",
       "      <td>2014-02-25</td>\n",
       "      <td>749.183646</td>\n",
       "      <td>702.331581</td>\n",
       "      <td>795.388667</td>\n",
       "    </tr>\n",
       "    <tr>\n",
       "      <th>3631</th>\n",
       "      <td>2014-02-26</td>\n",
       "      <td>749.694005</td>\n",
       "      <td>705.472018</td>\n",
       "      <td>793.602743</td>\n",
       "    </tr>\n",
       "    <tr>\n",
       "      <th>3632</th>\n",
       "      <td>2014-02-27</td>\n",
       "      <td>750.439526</td>\n",
       "      <td>698.579541</td>\n",
       "      <td>797.513679</td>\n",
       "    </tr>\n",
       "    <tr>\n",
       "      <th>3633</th>\n",
       "      <td>2014-02-28</td>\n",
       "      <td>750.542423</td>\n",
       "      <td>701.038904</td>\n",
       "      <td>798.302716</td>\n",
       "    </tr>\n",
       "    <tr>\n",
       "      <th>3634</th>\n",
       "      <td>2014-03-01</td>\n",
       "      <td>765.131892</td>\n",
       "      <td>717.643694</td>\n",
       "      <td>810.987556</td>\n",
       "    </tr>\n",
       "  </tbody>\n",
       "</table>\n",
       "</div>"
      ],
      "text/plain": [
       "             ds        yhat  yhat_lower  yhat_upper\n",
       "3630 2014-02-25  749.183646  702.331581  795.388667\n",
       "3631 2014-02-26  749.694005  705.472018  793.602743\n",
       "3632 2014-02-27  750.439526  698.579541  797.513679\n",
       "3633 2014-02-28  750.542423  701.038904  798.302716\n",
       "3634 2014-03-01  765.131892  717.643694  810.987556"
      ]
     },
     "execution_count": 64,
     "metadata": {},
     "output_type": "execute_result"
    }
   ],
   "source": [
    "# Python\n",
    "forecast = model.predict(future)\n",
    "forecast[['ds', 'yhat', 'yhat_lower', 'yhat_upper']].tail()"
   ]
  },
  {
   "cell_type": "code",
   "execution_count": 65,
   "metadata": {},
   "outputs": [
    {
     "data": {
      "image/png": "[encoded data removed]",
      "text/plain": [
       "<Figure size 720x432 with 1 Axes>"
      ]
     },
     "metadata": {},
     "output_type": "display_data"
    }
   ],
   "source": [
    "fig1 = model.plot(forecast)"
   ]
  },
  {
   "cell_type": "code",
   "execution_count": 66,
   "metadata": {},
   "outputs": [
    {
     "data": {
      "image/png": "[encoded data removed]",
      "text/plain": [
       "<Figure size 648x648 with 3 Axes>"
      ]
     },
     "metadata": {},
     "output_type": "display_data"
    }
   ],
   "source": [
    "fig2 = model.plot_components(forecast)"
   ]
  },
  {
   "cell_type": "code",
   "execution_count": null,
   "metadata": {},
   "outputs": [],
   "source": []
  },
  {
   "cell_type": "markdown",
   "metadata": {},
   "source": [
    "### ANNUAL PERCENTAGE CHANGE"
   ]
  },
  {
   "cell_type": "code",
   "execution_count": 67,
   "metadata": {},
   "outputs": [],
   "source": [
    "#annualdf = pd.DataFrame(day_df.resample() )"
   ]
  },
  {
   "cell_type": "code",
   "execution_count": 68,
   "metadata": {},
   "outputs": [],
   "source": [
    "annual_df=pd.DataFrame(data=day_df,index=day_df.index,columns=['close'])"
   ]
  },
  {
   "cell_type": "code",
   "execution_count": 69,
   "metadata": {},
   "outputs": [
    {
     "data": {
      "text/html": [
       "<div>\n",
       "<style scoped>\n",
       "    .dataframe tbody tr th:only-of-type {\n",
       "        vertical-align: middle;\n",
       "    }\n",
       "\n",
       "    .dataframe tbody tr th {\n",
       "        vertical-align: top;\n",
       "    }\n",
       "\n",
       "    .dataframe thead th {\n",
       "        text-align: right;\n",
       "    }\n",
       "</style>\n",
       "<table border=\"1\" class=\"dataframe\">\n",
       "  <thead>\n",
       "    <tr style=\"text-align: right;\">\n",
       "      <th></th>\n",
       "      <th>close</th>\n",
       "    </tr>\n",
       "    <tr>\n",
       "      <th>date</th>\n",
       "      <th></th>\n",
       "    </tr>\n",
       "  </thead>\n",
       "  <tbody>\n",
       "    <tr>\n",
       "      <th>2000-03-01</th>\n",
       "      <td>130.31</td>\n",
       "    </tr>\n",
       "    <tr>\n",
       "      <th>2000-03-02</th>\n",
       "      <td>122.00</td>\n",
       "    </tr>\n",
       "    <tr>\n",
       "      <th>2000-03-03</th>\n",
       "      <td>128.00</td>\n",
       "    </tr>\n",
       "    <tr>\n",
       "      <th>2000-03-06</th>\n",
       "      <td>125.69</td>\n",
       "    </tr>\n",
       "    <tr>\n",
       "      <th>2000-03-07</th>\n",
       "      <td>122.87</td>\n",
       "    </tr>\n",
       "    <tr>\n",
       "      <th>...</th>\n",
       "      <td>...</td>\n",
       "    </tr>\n",
       "    <tr>\n",
       "      <th>2013-02-25</th>\n",
       "      <td>442.80</td>\n",
       "    </tr>\n",
       "    <tr>\n",
       "      <th>2013-02-26</th>\n",
       "      <td>448.97</td>\n",
       "    </tr>\n",
       "    <tr>\n",
       "      <th>2013-02-27</th>\n",
       "      <td>444.57</td>\n",
       "    </tr>\n",
       "    <tr>\n",
       "      <th>2013-02-28</th>\n",
       "      <td>441.40</td>\n",
       "    </tr>\n",
       "    <tr>\n",
       "      <th>2013-03-01</th>\n",
       "      <td>430.47</td>\n",
       "    </tr>\n",
       "  </tbody>\n",
       "</table>\n",
       "<p>3393 rows × 1 columns</p>\n",
       "</div>"
      ],
      "text/plain": [
       "             close\n",
       "date              \n",
       "2000-03-01  130.31\n",
       "2000-03-02  122.00\n",
       "2000-03-03  128.00\n",
       "2000-03-06  125.69\n",
       "2000-03-07  122.87\n",
       "...            ...\n",
       "2013-02-25  442.80\n",
       "2013-02-26  448.97\n",
       "2013-02-27  444.57\n",
       "2013-02-28  441.40\n",
       "2013-03-01  430.47\n",
       "\n",
       "[3393 rows x 1 columns]"
      ]
     },
     "execution_count": 69,
     "metadata": {},
     "output_type": "execute_result"
    }
   ],
   "source": [
    "annual_df"
   ]
  },
  {
   "cell_type": "code",
   "execution_count": 70,
   "metadata": {},
   "outputs": [],
   "source": [
    "annual_df = annual_df.asfreq('y')"
   ]
  },
  {
   "cell_type": "code",
   "execution_count": 71,
   "metadata": {},
   "outputs": [
    {
     "data": {
      "text/html": [
       "<div>\n",
       "<style scoped>\n",
       "    .dataframe tbody tr th:only-of-type {\n",
       "        vertical-align: middle;\n",
       "    }\n",
       "\n",
       "    .dataframe tbody tr th {\n",
       "        vertical-align: top;\n",
       "    }\n",
       "\n",
       "    .dataframe thead th {\n",
       "        text-align: right;\n",
       "    }\n",
       "</style>\n",
       "<table border=\"1\" class=\"dataframe\">\n",
       "  <thead>\n",
       "    <tr style=\"text-align: right;\">\n",
       "      <th></th>\n",
       "      <th>close</th>\n",
       "    </tr>\n",
       "    <tr>\n",
       "      <th>date</th>\n",
       "      <th></th>\n",
       "    </tr>\n",
       "  </thead>\n",
       "  <tbody>\n",
       "    <tr>\n",
       "      <th>2000-12-31</th>\n",
       "      <td>NaN</td>\n",
       "    </tr>\n",
       "    <tr>\n",
       "      <th>2001-12-31</th>\n",
       "      <td>21.90</td>\n",
       "    </tr>\n",
       "    <tr>\n",
       "      <th>2002-12-31</th>\n",
       "      <td>14.33</td>\n",
       "    </tr>\n",
       "    <tr>\n",
       "      <th>2003-12-31</th>\n",
       "      <td>21.37</td>\n",
       "    </tr>\n",
       "    <tr>\n",
       "      <th>2004-12-31</th>\n",
       "      <td>64.40</td>\n",
       "    </tr>\n",
       "    <tr>\n",
       "      <th>2005-12-31</th>\n",
       "      <td>NaN</td>\n",
       "    </tr>\n",
       "    <tr>\n",
       "      <th>2006-12-31</th>\n",
       "      <td>NaN</td>\n",
       "    </tr>\n",
       "    <tr>\n",
       "      <th>2007-12-31</th>\n",
       "      <td>198.08</td>\n",
       "    </tr>\n",
       "    <tr>\n",
       "      <th>2008-12-31</th>\n",
       "      <td>85.35</td>\n",
       "    </tr>\n",
       "    <tr>\n",
       "      <th>2009-12-31</th>\n",
       "      <td>210.73</td>\n",
       "    </tr>\n",
       "    <tr>\n",
       "      <th>2010-12-31</th>\n",
       "      <td>322.56</td>\n",
       "    </tr>\n",
       "    <tr>\n",
       "      <th>2011-12-31</th>\n",
       "      <td>NaN</td>\n",
       "    </tr>\n",
       "    <tr>\n",
       "      <th>2012-12-31</th>\n",
       "      <td>532.17</td>\n",
       "    </tr>\n",
       "  </tbody>\n",
       "</table>\n",
       "</div>"
      ],
      "text/plain": [
       "             close\n",
       "date              \n",
       "2000-12-31     NaN\n",
       "2001-12-31   21.90\n",
       "2002-12-31   14.33\n",
       "2003-12-31   21.37\n",
       "2004-12-31   64.40\n",
       "2005-12-31     NaN\n",
       "2006-12-31     NaN\n",
       "2007-12-31  198.08\n",
       "2008-12-31   85.35\n",
       "2009-12-31  210.73\n",
       "2010-12-31  322.56\n",
       "2011-12-31     NaN\n",
       "2012-12-31  532.17"
      ]
     },
     "execution_count": 71,
     "metadata": {},
     "output_type": "execute_result"
    }
   ],
   "source": [
    "annual_df"
   ]
  },
  {
   "cell_type": "code",
   "execution_count": 72,
   "metadata": {},
   "outputs": [],
   "source": [
    "annual_df.fillna(method='bfill', inplace=True)"
   ]
  },
  {
   "cell_type": "code",
   "execution_count": 73,
   "metadata": {},
   "outputs": [
    {
     "data": {
      "text/html": [
       "<div>\n",
       "<style scoped>\n",
       "    .dataframe tbody tr th:only-of-type {\n",
       "        vertical-align: middle;\n",
       "    }\n",
       "\n",
       "    .dataframe tbody tr th {\n",
       "        vertical-align: top;\n",
       "    }\n",
       "\n",
       "    .dataframe thead th {\n",
       "        text-align: right;\n",
       "    }\n",
       "</style>\n",
       "<table border=\"1\" class=\"dataframe\">\n",
       "  <thead>\n",
       "    <tr style=\"text-align: right;\">\n",
       "      <th></th>\n",
       "      <th>close</th>\n",
       "      <th>ret_close</th>\n",
       "    </tr>\n",
       "    <tr>\n",
       "      <th>date</th>\n",
       "      <th></th>\n",
       "      <th></th>\n",
       "    </tr>\n",
       "  </thead>\n",
       "  <tbody>\n",
       "    <tr>\n",
       "      <th>2000-12-31</th>\n",
       "      <td>21.90</td>\n",
       "      <td>NaN</td>\n",
       "    </tr>\n",
       "    <tr>\n",
       "      <th>2001-12-31</th>\n",
       "      <td>21.90</td>\n",
       "      <td>0.000000</td>\n",
       "    </tr>\n",
       "    <tr>\n",
       "      <th>2002-12-31</th>\n",
       "      <td>14.33</td>\n",
       "      <td>-34.566210</td>\n",
       "    </tr>\n",
       "    <tr>\n",
       "      <th>2003-12-31</th>\n",
       "      <td>21.37</td>\n",
       "      <td>49.127704</td>\n",
       "    </tr>\n",
       "    <tr>\n",
       "      <th>2004-12-31</th>\n",
       "      <td>64.40</td>\n",
       "      <td>201.357043</td>\n",
       "    </tr>\n",
       "    <tr>\n",
       "      <th>2005-12-31</th>\n",
       "      <td>198.08</td>\n",
       "      <td>207.577640</td>\n",
       "    </tr>\n",
       "    <tr>\n",
       "      <th>2006-12-31</th>\n",
       "      <td>198.08</td>\n",
       "      <td>0.000000</td>\n",
       "    </tr>\n",
       "    <tr>\n",
       "      <th>2007-12-31</th>\n",
       "      <td>198.08</td>\n",
       "      <td>0.000000</td>\n",
       "    </tr>\n",
       "    <tr>\n",
       "      <th>2008-12-31</th>\n",
       "      <td>85.35</td>\n",
       "      <td>-56.911349</td>\n",
       "    </tr>\n",
       "    <tr>\n",
       "      <th>2009-12-31</th>\n",
       "      <td>210.73</td>\n",
       "      <td>146.900996</td>\n",
       "    </tr>\n",
       "    <tr>\n",
       "      <th>2010-12-31</th>\n",
       "      <td>322.56</td>\n",
       "      <td>53.067907</td>\n",
       "    </tr>\n",
       "    <tr>\n",
       "      <th>2011-12-31</th>\n",
       "      <td>532.17</td>\n",
       "      <td>64.983259</td>\n",
       "    </tr>\n",
       "    <tr>\n",
       "      <th>2012-12-31</th>\n",
       "      <td>532.17</td>\n",
       "      <td>0.000000</td>\n",
       "    </tr>\n",
       "  </tbody>\n",
       "</table>\n",
       "</div>"
      ],
      "text/plain": [
       "             close   ret_close\n",
       "date                          \n",
       "2000-12-31   21.90         NaN\n",
       "2001-12-31   21.90    0.000000\n",
       "2002-12-31   14.33  -34.566210\n",
       "2003-12-31   21.37   49.127704\n",
       "2004-12-31   64.40  201.357043\n",
       "2005-12-31  198.08  207.577640\n",
       "2006-12-31  198.08    0.000000\n",
       "2007-12-31  198.08    0.000000\n",
       "2008-12-31   85.35  -56.911349\n",
       "2009-12-31  210.73  146.900996\n",
       "2010-12-31  322.56   53.067907\n",
       "2011-12-31  532.17   64.983259\n",
       "2012-12-31  532.17    0.000000"
      ]
     },
     "execution_count": 73,
     "metadata": {},
     "output_type": "execute_result"
    }
   ],
   "source": [
    "annual_df['ret_close'] = annual_df['close'].pct_change(1)*100\n",
    "annual_df"
   ]
  },
  {
   "cell_type": "code",
   "execution_count": 74,
   "metadata": {},
   "outputs": [
    {
     "data": {
      "text/html": [
       "<div>\n",
       "<style scoped>\n",
       "    .dataframe tbody tr th:only-of-type {\n",
       "        vertical-align: middle;\n",
       "    }\n",
       "\n",
       "    .dataframe tbody tr th {\n",
       "        vertical-align: top;\n",
       "    }\n",
       "\n",
       "    .dataframe thead th {\n",
       "        text-align: right;\n",
       "    }\n",
       "</style>\n",
       "<table border=\"1\" class=\"dataframe\">\n",
       "  <thead>\n",
       "    <tr style=\"text-align: right;\">\n",
       "      <th></th>\n",
       "      <th>close</th>\n",
       "      <th>ret_close</th>\n",
       "    </tr>\n",
       "    <tr>\n",
       "      <th>date</th>\n",
       "      <th></th>\n",
       "      <th></th>\n",
       "    </tr>\n",
       "  </thead>\n",
       "  <tbody>\n",
       "    <tr>\n",
       "      <th>2000-12-31</th>\n",
       "      <td>21.90</td>\n",
       "      <td>0.000000</td>\n",
       "    </tr>\n",
       "    <tr>\n",
       "      <th>2001-12-31</th>\n",
       "      <td>21.90</td>\n",
       "      <td>0.000000</td>\n",
       "    </tr>\n",
       "    <tr>\n",
       "      <th>2002-12-31</th>\n",
       "      <td>14.33</td>\n",
       "      <td>-34.566210</td>\n",
       "    </tr>\n",
       "    <tr>\n",
       "      <th>2003-12-31</th>\n",
       "      <td>21.37</td>\n",
       "      <td>49.127704</td>\n",
       "    </tr>\n",
       "    <tr>\n",
       "      <th>2004-12-31</th>\n",
       "      <td>64.40</td>\n",
       "      <td>201.357043</td>\n",
       "    </tr>\n",
       "    <tr>\n",
       "      <th>2005-12-31</th>\n",
       "      <td>198.08</td>\n",
       "      <td>207.577640</td>\n",
       "    </tr>\n",
       "    <tr>\n",
       "      <th>2006-12-31</th>\n",
       "      <td>198.08</td>\n",
       "      <td>0.000000</td>\n",
       "    </tr>\n",
       "    <tr>\n",
       "      <th>2007-12-31</th>\n",
       "      <td>198.08</td>\n",
       "      <td>0.000000</td>\n",
       "    </tr>\n",
       "    <tr>\n",
       "      <th>2008-12-31</th>\n",
       "      <td>85.35</td>\n",
       "      <td>-56.911349</td>\n",
       "    </tr>\n",
       "    <tr>\n",
       "      <th>2009-12-31</th>\n",
       "      <td>210.73</td>\n",
       "      <td>146.900996</td>\n",
       "    </tr>\n",
       "    <tr>\n",
       "      <th>2010-12-31</th>\n",
       "      <td>322.56</td>\n",
       "      <td>53.067907</td>\n",
       "    </tr>\n",
       "    <tr>\n",
       "      <th>2011-12-31</th>\n",
       "      <td>532.17</td>\n",
       "      <td>64.983259</td>\n",
       "    </tr>\n",
       "    <tr>\n",
       "      <th>2012-12-31</th>\n",
       "      <td>532.17</td>\n",
       "      <td>0.000000</td>\n",
       "    </tr>\n",
       "  </tbody>\n",
       "</table>\n",
       "</div>"
      ],
      "text/plain": [
       "             close   ret_close\n",
       "date                          \n",
       "2000-12-31   21.90    0.000000\n",
       "2001-12-31   21.90    0.000000\n",
       "2002-12-31   14.33  -34.566210\n",
       "2003-12-31   21.37   49.127704\n",
       "2004-12-31   64.40  201.357043\n",
       "2005-12-31  198.08  207.577640\n",
       "2006-12-31  198.08    0.000000\n",
       "2007-12-31  198.08    0.000000\n",
       "2008-12-31   85.35  -56.911349\n",
       "2009-12-31  210.73  146.900996\n",
       "2010-12-31  322.56   53.067907\n",
       "2011-12-31  532.17   64.983259\n",
       "2012-12-31  532.17    0.000000"
      ]
     },
     "execution_count": 74,
     "metadata": {},
     "output_type": "execute_result"
    }
   ],
   "source": [
    "annual_df.fillna(method='bfill')"
   ]
  },
  {
   "cell_type": "code",
   "execution_count": 75,
   "metadata": {},
   "outputs": [
    {
     "data": {
      "image/png": "[encoded data removed]",
      "text/plain": [
       "<Figure size 1440x720 with 1 Axes>"
      ]
     },
     "metadata": {
      "needs_background": "light"
     },
     "output_type": "display_data"
    }
   ],
   "source": [
    "plt.figure(figsize=(20, 10))\n",
    "sns.barplot(x = annual_df.index, y = annual_df['ret_close'], data = annual_df, palette=\"PuBu\")\n",
    "plt.xlabel('Date')\n",
    "plt.xticks(rotation=45)\n",
    "plt.ylabel(\"Percentage Change\")\n",
    "plt.title(\"Apple Stock Percentage Change\")\n",
    "plt.show()"
   ]
  },
  {
   "cell_type": "markdown",
   "metadata": {},
   "source": [
    "The plot above shows ** ANNUAL PERCENTAGE CHANGE** in Apple stock. The bars below zero show a negative percentage change<br>\n",
    "while it shows the percentage change it isn't fully accurate where there were Nans generated and we filled if bfill and ffill.<br>\n",
    "We need to consult with a financial expert to understand how the calculate percentage change in annual stock to see how to implement it in code<br>"
   ]
  },
  {
   "cell_type": "code",
   "execution_count": null,
   "metadata": {},
   "outputs": [],
   "source": []
  }
 ],
 "metadata": {
  "kernelspec": {
   "display_name": "Python 3",
   "language": "python",
   "name": "python3"
  },
  "language_info": {
   "codemirror_mode": {
    "name": "ipython",
    "version": 3
   },
   "file_extension": ".py",
   "mimetype": "text/x-python",
   "name": "python",
   "nbconvert_exporter": "python",
   "pygments_lexer": "ipython3",
   "version": "3.8.5"
  }
 },
 "nbformat": 4,
 "nbformat_minor": 4
}
